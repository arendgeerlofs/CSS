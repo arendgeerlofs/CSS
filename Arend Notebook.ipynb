{
 "cells": [
  {
   "cell_type": "code",
   "execution_count": 1,
   "id": "2e5b1e2a",
   "metadata": {},
   "outputs": [
    {
     "name": "stderr",
     "output_type": "stream",
     "text": [
      "C:\\Users\\arend\\anaconda3\\envs\\zeearend\\envs\\zeearend\\lib\\site-packages\\scipy\\__init__.py:138: UserWarning: A NumPy version >=1.16.5 and <1.23.0 is required for this version of SciPy (detected version 1.23.0)\n",
      "  warnings.warn(f\"A NumPy version >={np_minversion} and <{np_maxversion} is required for this version of \"\n"
     ]
    }
   ],
   "source": [
    "from Bak_Tang_Wiesenfield import BTW\n",
    "from Heatmap import plotheatmap\n",
    "import matplotlib.pyplot as plt\n",
    "import matplotlib.animation as animation\n",
    "from matplotlib.animation import FuncAnimation\n",
    "from Subsampling import subsample\n",
    "import numpy as np"
   ]
  },
  {
   "cell_type": "code",
   "execution_count": 1,
   "id": "fc5d810e",
   "metadata": {
    "scrolled": true
   },
   "outputs": [
    {
     "ename": "NameError",
     "evalue": "name 'BTW' is not defined",
     "output_type": "error",
     "traceback": [
      "\u001b[1;31m---------------------------------------------------------------------------\u001b[0m",
      "\u001b[1;31mNameError\u001b[0m                                 Traceback (most recent call last)",
      "\u001b[1;32m<ipython-input-1-ecb06129ed28>\u001b[0m in \u001b[0;36m<module>\u001b[1;34m\u001b[0m\n\u001b[0;32m      1\u001b[0m \u001b[1;32mfor\u001b[0m \u001b[0mh\u001b[0m \u001b[1;32min\u001b[0m \u001b[1;33m[\u001b[0m\u001b[1;36m0.05\u001b[0m\u001b[1;33m,\u001b[0m \u001b[1;36m0.1\u001b[0m\u001b[1;33m,\u001b[0m \u001b[1;36m0.15\u001b[0m\u001b[1;33m,\u001b[0m \u001b[1;36m0.2\u001b[0m\u001b[1;33m]\u001b[0m\u001b[1;33m:\u001b[0m\u001b[1;33m\u001b[0m\u001b[1;33m\u001b[0m\u001b[0m\n\u001b[0;32m      2\u001b[0m     \u001b[1;32mfor\u001b[0m \u001b[0mlabda\u001b[0m \u001b[1;32min\u001b[0m \u001b[1;33m[\u001b[0m\u001b[1;36m0.0005\u001b[0m\u001b[1;33m,\u001b[0m \u001b[1;36m0.001\u001b[0m\u001b[1;33m,\u001b[0m \u001b[1;36m0.0015\u001b[0m\u001b[1;33m,\u001b[0m \u001b[1;36m0.002\u001b[0m\u001b[1;33m]\u001b[0m\u001b[1;33m:\u001b[0m\u001b[1;33m\u001b[0m\u001b[1;33m\u001b[0m\u001b[0m\n\u001b[1;32m----> 3\u001b[1;33m         \u001b[0mk_points\u001b[0m\u001b[1;33m,\u001b[0m \u001b[0mspikes\u001b[0m \u001b[1;33m=\u001b[0m \u001b[0mBTW\u001b[0m\u001b[1;33m(\u001b[0m\u001b[1;36m50\u001b[0m\u001b[1;33m,\u001b[0m \u001b[1;36m0\u001b[0m\u001b[1;33m,\u001b[0m \u001b[1;36m6000\u001b[0m\u001b[1;33m,\u001b[0m \u001b[0mlabda\u001b[0m\u001b[1;33m,\u001b[0m \u001b[0mh\u001b[0m\u001b[1;33m)\u001b[0m\u001b[1;33m\u001b[0m\u001b[1;33m\u001b[0m\u001b[0m\n\u001b[0m\u001b[0;32m      4\u001b[0m         \u001b[0mplt\u001b[0m\u001b[1;33m.\u001b[0m\u001b[0mplot\u001b[0m\u001b[1;33m(\u001b[0m\u001b[0mk_points\u001b[0m\u001b[1;33m,\u001b[0m \u001b[0mspikes\u001b[0m\u001b[1;33m,\u001b[0m \u001b[0mlabel\u001b[0m\u001b[1;33m=\u001b[0m\u001b[1;34m'labda: {}, h: {}'\u001b[0m\u001b[1;33m.\u001b[0m\u001b[0mformat\u001b[0m\u001b[1;33m(\u001b[0m\u001b[0mlabda\u001b[0m\u001b[1;33m,\u001b[0m \u001b[0mh\u001b[0m\u001b[1;33m)\u001b[0m\u001b[1;33m)\u001b[0m\u001b[1;33m\u001b[0m\u001b[1;33m\u001b[0m\u001b[0m\n\u001b[0;32m      5\u001b[0m         \u001b[0mprint\u001b[0m\u001b[1;33m(\u001b[0m\u001b[1;34m'Finished -- lambda: {}, h: {}'\u001b[0m\u001b[1;33m.\u001b[0m\u001b[0mformat\u001b[0m\u001b[1;33m(\u001b[0m\u001b[0mlabda\u001b[0m\u001b[1;33m,\u001b[0m \u001b[0mh\u001b[0m\u001b[1;33m)\u001b[0m\u001b[1;33m)\u001b[0m\u001b[1;33m\u001b[0m\u001b[1;33m\u001b[0m\u001b[0m\n",
      "\u001b[1;31mNameError\u001b[0m: name 'BTW' is not defined"
     ]
    }
   ],
   "source": [
    "for h in [0.05, 0.1, 0.15, 0.2]:\n",
    "    for labda in [0.0005, 0.001, 0.0015, 0.002]:\n",
    "        k_points, spikes = BTW(50, 0, 6000, labda, h)\n",
    "        plt.plot(k_points, spikes, label='labda: {}, h: {}'.format(labda, h))\n",
    "        print('Finished -- lambda: {}, h: {}'.format(labda, h))\n",
    "plt.title(\"Amount of spikes over time\")\n",
    "plt.ylabel('Spikes')\n",
    "plt.xlabel('ms')\n",
    "plt.legend()\n",
    "plt.show()"
   ]
  },
  {
   "cell_type": "code",
   "execution_count": 2,
   "id": "5f9195e2",
   "metadata": {},
   "outputs": [
    {
     "data": {
      "image/png": "[encoded data removed]",
      "text/plain": [
       "<Figure size 432x288 with 2 Axes>"
      ]
     },
     "metadata": {
      "needs_background": "light"
     },
     "output_type": "display_data"
    }
   ],
   "source": [
    "def animate(k):\n",
    "    plt = plotheatmap(u[k])\n",
    "    \n",
    "    plt.title(f'Heat distribution at Frame {k}')\n",
    "\n",
    "frames = 500\n",
    "u = BTW(50, 0, frames+500, 0.1, 0, 'Heat')\n",
    "\n",
    "anim = animation.FuncAnimation(plt.figure(), animate, interval=1, frames=frames, repeat=False )\n",
    "anim.save(\"spike_heat.gif\")"
   ]
  },
  {
   "cell_type": "code",
   "execution_count": 3,
   "id": "5b3a5ec0",
   "metadata": {},
   "outputs": [
    {
     "name": "stderr",
     "output_type": "stream",
     "text": [
      "C:\\Users\\arend\\OneDrive\\Bureaublad\\CLS\\CSS\\Bak_Tang_Wiesenfield.py:4: NumbaWarning: \u001b[1m\n",
      "Compilation is falling back to object mode WITH looplifting enabled because Function \"BTW\" failed type inference due to: \u001b[1mCan't unify return type from the following types: UniTuple(list(int64)<iv=None> x 2), array(float64, 2d, C), list(array(float64, 2d, C))<iv=None>\n",
      "\u001b[1mReturn of: IR name '$744return_value.1', type 'list(array(float64, 2d, C))<iv=None>', location: \u001b[1m\n",
      "File \"Bak_Tang_Wiesenfield.py\", line 51:\u001b[0m\n",
      "\u001b[1mdef BTW(size = 50, threshold = 0, time_steps = 1000, labda = 0.05, h = 0, ret='BTW'):\n",
      "    <source elided>\n",
      "    if ret == 'Heat':\n",
      "\u001b[1m        return BTW_timed\n",
      "\u001b[0m        \u001b[1m^\u001b[0m\u001b[0m\u001b[0m\n",
      "\u001b[1mReturn of: IR name '$762return_value.3', type 'UniTuple(list(int64)<iv=None> x 2)', location: \u001b[1m\n",
      "File \"Bak_Tang_Wiesenfield.py\", line 53:\u001b[0m\n",
      "\u001b[1mdef BTW(size = 50, threshold = 0, time_steps = 1000, labda = 0.05, h = 0, ret='BTW'):\n",
      "    <source elided>\n",
      "    if ret == 'Param':\n",
      "\u001b[1m        return k_points, spikes\n",
      "\u001b[0m        \u001b[1m^\u001b[0m\u001b[0m\u001b[0m\n",
      "\u001b[1mReturn of: IR name '$766return_value.1', type 'array(float64, 2d, C)', location: \u001b[1m\n",
      "File \"Bak_Tang_Wiesenfield.py\", line 54:\u001b[0m\n",
      "\u001b[1mdef BTW(size = 50, threshold = 0, time_steps = 1000, labda = 0.05, h = 0, ret='BTW'):\n",
      "    <source elided>\n",
      "        return k_points, spikes\n",
      "\u001b[1m    return BTW\n",
      "\u001b[0m    \u001b[1m^\u001b[0m\u001b[0m\u001b[0m\u001b[0m\u001b[0m\n",
      "  @jit\n",
      "C:\\Users\\arend\\anaconda3\\envs\\zeearend\\envs\\zeearend\\lib\\site-packages\\numba\\core\\object_mode_passes.py:151: NumbaWarning: \u001b[1mFunction \"BTW\" was compiled in object mode without forceobj=True.\n",
      "\u001b[1m\n",
      "File \"Bak_Tang_Wiesenfield.py\", line 5:\u001b[0m\n",
      "\u001b[1m@jit\n",
      "\u001b[1mdef BTW(size = 50, threshold = 0, time_steps = 1000, labda = 0.05, h = 0, ret='BTW'):\n",
      "\u001b[0m\u001b[1m^\u001b[0m\u001b[0m\n",
      "\u001b[0m\n",
      "  warnings.warn(errors.NumbaWarning(warn_msg,\n",
      "C:\\Users\\arend\\anaconda3\\envs\\zeearend\\envs\\zeearend\\lib\\site-packages\\numba\\core\\object_mode_passes.py:161: NumbaDeprecationWarning: \u001b[1m\n",
      "Fall-back from the nopython compilation path to the object mode compilation path has been detected, this is deprecated behaviour.\n",
      "\n",
      "For more information visit https://numba.pydata.org/numba-doc/latest/reference/deprecation.html#deprecation-of-object-mode-fall-back-behaviour-when-using-jit\n",
      "\u001b[1m\n",
      "File \"Bak_Tang_Wiesenfield.py\", line 5:\u001b[0m\n",
      "\u001b[1m@jit\n",
      "\u001b[1mdef BTW(size = 50, threshold = 0, time_steps = 1000, labda = 0.05, h = 0, ret='BTW'):\n",
      "\u001b[0m\u001b[1m^\u001b[0m\u001b[0m\n",
      "\u001b[0m\n",
      "  warnings.warn(errors.NumbaDeprecationWarning(msg,\n"
     ]
    },
    {
     "ename": "KeyboardInterrupt",
     "evalue": "",
     "output_type": "error",
     "traceback": [
      "\u001b[1;31m---------------------------------------------------------------------------\u001b[0m",
      "\u001b[1;31mKeyboardInterrupt\u001b[0m                         Traceback (most recent call last)",
      "\u001b[1;32m<ipython-input-3-4e6b2a4bc441>\u001b[0m in \u001b[0;36m<module>\u001b[1;34m\u001b[0m\n\u001b[1;32m----> 1\u001b[1;33m \u001b[0mt\u001b[0m \u001b[1;33m=\u001b[0m \u001b[0mBTW\u001b[0m\u001b[1;33m(\u001b[0m\u001b[1;36m50\u001b[0m\u001b[1;33m,\u001b[0m \u001b[1;36m0\u001b[0m\u001b[1;33m,\u001b[0m \u001b[1;36m500\u001b[0m\u001b[1;33m,\u001b[0m \u001b[1;36m0.1\u001b[0m\u001b[1;33m,\u001b[0m \u001b[1;36m0\u001b[0m\u001b[1;33m,\u001b[0m \u001b[0mret\u001b[0m\u001b[1;33m=\u001b[0m\u001b[1;34m'Param'\u001b[0m\u001b[1;33m)\u001b[0m\u001b[1;33m\u001b[0m\u001b[1;33m\u001b[0m\u001b[0m\n\u001b[0m",
      "\u001b[1;32mmtrand.pyx\u001b[0m in \u001b[0;36mnumpy.random.mtrand.RandomState.poisson\u001b[1;34m()\u001b[0m\n",
      "\u001b[1;32mmtrand.pyx\u001b[0m in \u001b[0;36mnumpy.random.mtrand.int64_to_long\u001b[1;34m()\u001b[0m\n",
      "\u001b[1;32m~\\anaconda3\\envs\\zeearend\\envs\\zeearend\\lib\\site-packages\\numpy\\core\\numeric.py\u001b[0m in \u001b[0;36misscalar\u001b[1;34m(element)\u001b[0m\n\u001b[0;32m   1947\u001b[0m \u001b[1;33m\u001b[0m\u001b[0m\n\u001b[0;32m   1948\u001b[0m     \"\"\"\n\u001b[1;32m-> 1949\u001b[1;33m     return (isinstance(element, generic)\n\u001b[0m\u001b[0;32m   1950\u001b[0m             \u001b[1;32mor\u001b[0m \u001b[0mtype\u001b[0m\u001b[1;33m(\u001b[0m\u001b[0melement\u001b[0m\u001b[1;33m)\u001b[0m \u001b[1;32min\u001b[0m \u001b[0mScalarType\u001b[0m\u001b[1;33m\u001b[0m\u001b[1;33m\u001b[0m\u001b[0m\n\u001b[0;32m   1951\u001b[0m             or isinstance(element, numbers.Number))\n",
      "\u001b[1;31mKeyboardInterrupt\u001b[0m: "
     ]
    }
   ],
   "source": [
    "t = BTW(50, 0, 500, 0.1, 0, ret='Param')"
   ]
  },
  {
   "cell_type": "code",
   "execution_count": 5,
   "id": "2436e289",
   "metadata": {},
   "outputs": [
    {
     "ename": "AttributeError",
     "evalue": "'numpy.ndarray' object has no attribute 'append'",
     "output_type": "error",
     "traceback": [
      "\u001b[1;31m---------------------------------------------------------------------------\u001b[0m",
      "\u001b[1;31mAttributeError\u001b[0m                            Traceback (most recent call last)",
      "\u001b[1;32m<ipython-input-5-f289ddf55e7b>\u001b[0m in \u001b[0;36m<module>\u001b[1;34m\u001b[0m\n\u001b[1;32m----> 1\u001b[1;33m \u001b[0mt1\u001b[0m \u001b[1;33m=\u001b[0m \u001b[0mBTW\u001b[0m\u001b[1;33m(\u001b[0m\u001b[1;36m50\u001b[0m\u001b[1;33m,\u001b[0m \u001b[1;36m0\u001b[0m\u001b[1;33m,\u001b[0m \u001b[1;36m2000\u001b[0m\u001b[1;33m,\u001b[0m \u001b[1;36m0.1\u001b[0m\u001b[1;33m,\u001b[0m \u001b[1;36m0\u001b[0m\u001b[1;33m,\u001b[0m \u001b[0mret\u001b[0m\u001b[1;33m=\u001b[0m\u001b[1;34m'Heat'\u001b[0m\u001b[1;33m)\u001b[0m\u001b[1;33m\u001b[0m\u001b[1;33m\u001b[0m\u001b[0m\n\u001b[0m\u001b[0;32m      2\u001b[0m \u001b[0mplotheatmap\u001b[0m\u001b[1;33m(\u001b[0m\u001b[0mt\u001b[0m\u001b[1;33m,\u001b[0m \u001b[1;36m0\u001b[0m\u001b[1;33m)\u001b[0m\u001b[1;33m\u001b[0m\u001b[1;33m\u001b[0m\u001b[0m\n",
      "\u001b[1;31mAttributeError\u001b[0m: 'numpy.ndarray' object has no attribute 'append'"
     ]
    }
   ],
   "source": [
    "t1 = BTW(50, 0, 2000, 0.1, 0, ret='Heat')\n",
    "plotheatmap(t, 0)"
   ]
  },
  {
   "cell_type": "code",
   "execution_count": null,
   "id": "3b6e0fde",
   "metadata": {},
   "outputs": [],
   "source": []
  }
 ],
 "metadata": {
  "kernelspec": {
   "display_name": "Python 3",
   "language": "python",
   "name": "python3"
  },
  "language_info": {
   "codemirror_mode": {
    "name": "ipython",
    "version": 3
   },
   "file_extension": ".py",
   "mimetype": "text/x-python",
   "name": "python",
   "nbconvert_exporter": "python",
   "pygments_lexer": "ipython3",
   "version": "3.8.8"
  }
 },
 "nbformat": 4,
 "nbformat_minor": 5
}
