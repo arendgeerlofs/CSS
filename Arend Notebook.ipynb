{
 "cells": [
  {
   "cell_type": "code",
   "execution_count": 3,
   "id": "2e5b1e2a",
   "metadata": {},
   "outputs": [],
   "source": [
    "from Bak_Tang_Wiesenfield import BTW\n",
    "import matplotlib.pyplot as plt"
   ]
  },
  {
   "cell_type": "code",
   "execution_count": null,
   "id": "fc5d810e",
   "metadata": {
    "scrolled": true
   },
   "outputs": [],
   "source": [
    "for h in [0.05, 0.1, 0.15, 0.2]:\n",
    "    for labda in [0.0005, 0.001, 0.0015, 0.002]:\n",
    "        k_points, spikes = BTW(50, 0, 6000, labda, h)\n",
    "        plt.plot(k_points, spikes, label='labda: {}, h: {}'.format(labda, h))\n",
    "plt.title(\"Amount of spikes over time\")\n",
    "plt.ylabel('Spikes')\n",
    "plt.xlabel('ms')\n",
    "plt.legend()\n",
    "plt.show()"
   ]
  },
  {
   "cell_type": "code",
   "execution_count": null,
   "id": "5f9195e2",
   "metadata": {},
   "outputs": [],
   "source": []
  }
 ],
 "metadata": {
  "kernelspec": {
   "display_name": "Python 3",
   "language": "python",
   "name": "python3"
  },
  "language_info": {
   "codemirror_mode": {
    "name": "ipython",
    "version": 3
   },
   "file_extension": ".py",
   "mimetype": "text/x-python",
   "name": "python",
   "nbconvert_exporter": "python",
   "pygments_lexer": "ipython3",
   "version": "3.8.8"
  }
 },
 "nbformat": 4,
 "nbformat_minor": 5
}
